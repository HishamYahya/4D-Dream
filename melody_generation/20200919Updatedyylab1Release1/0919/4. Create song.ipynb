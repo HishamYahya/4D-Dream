{
 "cells": [
  {
   "cell_type": "code",
   "execution_count": 5,
   "metadata": {},
   "outputs": [],
   "source": [
    "\n",
    "import numpy as np\n",
    "import tensorflow as tf\n",
    "import midi_statistics\n",
    "import utils\n",
    "import os\n",
    "from gensim.models import Word2Vec\n"
   ]
  },
  {
   "cell_type": "code",
   "execution_count": null,
   "metadata": {},
   "outputs": [],
   "source": []
  },
  {
   "cell_type": "code",
   "execution_count": 6,
   "metadata": {},
   "outputs": [],
   "source": [
    "\n",
    "syll_model_path = './enc_models/syllEncoding_20190419.bin'\n",
    "word_model_path = './enc_models/wordLevelEncoder_20190419.bin'\n"
   ]
  },
  {
   "cell_type": "code",
   "execution_count": 7,
   "metadata": {},
   "outputs": [],
   "source": [
    "\n",
    "syllModel = Word2Vec.load(syll_model_path)\n",
    "wordModel = Word2Vec.load(word_model_path)\n",
    "\n",
    "'''\n",
    "lyrics = [['Must','Must'],['have','have'],['been','been'],['love','love'],\n",
    "          ['but','but'],['its','its'],['o','over'],['ver','over'],['now','now'],['lay','lay'],['a','a'],\n",
    "          ['whis','whisper'],['per','whisper'],['on','on'],['my','my'],['pil','pillow'],['low','pillow']]\n",
    "lyrics = [['E','Everywhere'],['very','Everywhere'],['where','Everywhere'],['I','I'],['look','look'],\n",
    "         ['I','I'],['found','found'],['you','you'],['look','looking'],['king','looking'],['back','back']]\n",
    "'''\n",
    "# lyrics = [['You','You'],['turn','turn'],['my','my'],['nights','nights'],\n",
    "#           ['in','into'],['to','into'],['days','days'],['Lead','Lead'],['me','me'],['mys','mysterious'],['te','mysterious'],\n",
    "#           ['ri','mysterious'],['ous','mysterious'],['ways','ways']]\n",
    "lyrics = [['Then','Then'],['the','the'],['rain','rainstorm'],['storm','rainstorm'],['came','came'],\n",
    "          ['ov','over'],['er','over'],['me','me'],['and','and'],['i','i'],['felt','felt'],['my','my'],\n",
    "          ['spi','spirit'],['rit','spirit'],['break','break']]\n",
    "\n",
    "length_song = len(lyrics)\n",
    "cond = []\n",
    "\n",
    "for i in range(20):\n",
    "    if i < length_song:\n",
    "        syll2Vec = syllModel.wv[lyrics[i][0]]\n",
    "        word2Vec = wordModel.wv[lyrics[i][1]]\n",
    "        cond.append(np.concatenate((syll2Vec,word2Vec)))\n",
    "    else:\n",
    "        cond.append(np.concatenate((syll2Vec,word2Vec)))\n",
    "\n",
    "\n",
    "flattened_cond = []\n",
    "for x in cond:\n",
    "    for y in x:\n",
    "        flattened_cond.append(y)\n"
   ]
  },
  {
   "cell_type": "code",
   "execution_count": 8,
   "metadata": {},
   "outputs": [
    {
     "name": "stdout",
     "output_type": "stream",
     "text": [
      "INFO:tensorflow:Restoring parameters from ./saved_gan_models/saved_model_best_overall_mmd\\variables\\variables\n",
      "done\n"
     ]
    }
   ],
   "source": [
    "\n",
    "model_path = './saved_gan_models/saved_model_best_overall_mmd'\n",
    "# model_path = './saved_gan_models/saved_model_end_of_training'\n",
    "\n",
    "x_list = []\n",
    "y_list = []\n",
    "\n",
    "with tf.Session(graph=tf.Graph()) as sess:\n",
    "    tf.saved_model.loader.load(sess, [], model_path)\n",
    "    graph = tf.get_default_graph()\n",
    "    keep_prob = graph.get_tensor_by_name(\"model/keep_prob:0\")\n",
    "    input_metadata = graph.get_tensor_by_name(\"model/input_metadata:0\")\n",
    "    input_songdata = graph.get_tensor_by_name(\"model/input_data:0\")\n",
    "    output_midi = graph.get_tensor_by_name(\"output_midi:0\")\n",
    "    feed_dict = {}\n",
    "    feed_dict[keep_prob.name] = 1.0\n",
    "    condition = []\n",
    "    feed_dict[input_metadata.name] = condition\n",
    "    feed_dict[input_songdata.name] = np.random.uniform(size=(1, 20, 3))\n",
    "    condition.append(np.split(np.asarray(flattened_cond), 20))\n",
    "    feed_dict[input_metadata.name] = condition\n",
    "    generated_features = sess.run(output_midi, feed_dict)\n",
    "    sample = [x[0, :] for x in generated_features]\n",
    "    sample = midi_statistics.tune_song(utils.discretize(sample))\n",
    "    midi_pattern = utils.create_midi_pattern_from_discretized_data(sample[0:length_song])\n",
    "    destination = \"test.mid\"\n",
    "    midi_pattern.write(destination)\n",
    "    \n",
    "    print('done')\n"
   ]
  },
  {
   "cell_type": "code",
   "execution_count": null,
   "metadata": {},
   "outputs": [],
   "source": []
  },
  {
   "cell_type": "code",
   "execution_count": null,
   "metadata": {},
   "outputs": [],
   "source": []
  },
  {
   "cell_type": "code",
   "execution_count": null,
   "metadata": {},
   "outputs": [],
   "source": []
  }
 ],
 "metadata": {
  "interpreter": {
   "hash": "24348d650c710915843a6dc24dadae60a7c38165f5f0358c3ffae2e0c24d8d1d"
  },
  "kernelspec": {
   "display_name": "Python 3.7.11 64-bit ('TMA': conda)",
   "name": "python3"
  },
  "language_info": {
   "codemirror_mode": {
    "name": "ipython",
    "version": 3
   },
   "file_extension": ".py",
   "mimetype": "text/x-python",
   "name": "python",
   "nbconvert_exporter": "python",
   "pygments_lexer": "ipython3",
   "version": "3.7.11"
  }
 },
 "nbformat": 4,
 "nbformat_minor": 2
}
